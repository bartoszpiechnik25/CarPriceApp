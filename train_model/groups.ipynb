{
 "cells": [
  {
   "cell_type": "code",
   "execution_count": 2,
   "metadata": {},
   "outputs": [],
   "source": [
    "import pandas as pd"
   ]
  },
  {
   "cell_type": "code",
   "execution_count": 3,
   "metadata": {},
   "outputs": [],
   "source": [
    "model = pd.read_csv(\"Car_Prices_Poland_Kaggle.csv\")"
   ]
  },
  {
   "cell_type": "code",
   "execution_count": 4,
   "metadata": {},
   "outputs": [
    {
     "data": {
      "text/html": [
       "<div>\n",
       "<style scoped>\n",
       "    .dataframe tbody tr th:only-of-type {\n",
       "        vertical-align: middle;\n",
       "    }\n",
       "\n",
       "    .dataframe tbody tr th {\n",
       "        vertical-align: top;\n",
       "    }\n",
       "\n",
       "    .dataframe thead th {\n",
       "        text-align: right;\n",
       "    }\n",
       "</style>\n",
       "<table border=\"1\" class=\"dataframe\">\n",
       "  <thead>\n",
       "    <tr style=\"text-align: right;\">\n",
       "      <th></th>\n",
       "      <th>Unnamed: 0</th>\n",
       "      <th>mark</th>\n",
       "      <th>model</th>\n",
       "      <th>generation_name</th>\n",
       "      <th>year</th>\n",
       "      <th>mileage</th>\n",
       "      <th>vol_engine</th>\n",
       "      <th>fuel</th>\n",
       "      <th>city</th>\n",
       "      <th>province</th>\n",
       "      <th>price</th>\n",
       "    </tr>\n",
       "  </thead>\n",
       "  <tbody>\n",
       "    <tr>\n",
       "      <th>0</th>\n",
       "      <td>0</td>\n",
       "      <td>opel</td>\n",
       "      <td>combo</td>\n",
       "      <td>gen-d-2011</td>\n",
       "      <td>2015</td>\n",
       "      <td>139568</td>\n",
       "      <td>1248</td>\n",
       "      <td>Diesel</td>\n",
       "      <td>Janki</td>\n",
       "      <td>Mazowieckie</td>\n",
       "      <td>35900</td>\n",
       "    </tr>\n",
       "    <tr>\n",
       "      <th>1</th>\n",
       "      <td>1</td>\n",
       "      <td>opel</td>\n",
       "      <td>combo</td>\n",
       "      <td>gen-d-2011</td>\n",
       "      <td>2018</td>\n",
       "      <td>31991</td>\n",
       "      <td>1499</td>\n",
       "      <td>Diesel</td>\n",
       "      <td>Katowice</td>\n",
       "      <td>Śląskie</td>\n",
       "      <td>78501</td>\n",
       "    </tr>\n",
       "    <tr>\n",
       "      <th>2</th>\n",
       "      <td>2</td>\n",
       "      <td>opel</td>\n",
       "      <td>combo</td>\n",
       "      <td>gen-d-2011</td>\n",
       "      <td>2015</td>\n",
       "      <td>278437</td>\n",
       "      <td>1598</td>\n",
       "      <td>Diesel</td>\n",
       "      <td>Brzeg</td>\n",
       "      <td>Opolskie</td>\n",
       "      <td>27000</td>\n",
       "    </tr>\n",
       "    <tr>\n",
       "      <th>3</th>\n",
       "      <td>3</td>\n",
       "      <td>opel</td>\n",
       "      <td>combo</td>\n",
       "      <td>gen-d-2011</td>\n",
       "      <td>2016</td>\n",
       "      <td>47600</td>\n",
       "      <td>1248</td>\n",
       "      <td>Diesel</td>\n",
       "      <td>Korfantów</td>\n",
       "      <td>Opolskie</td>\n",
       "      <td>30800</td>\n",
       "    </tr>\n",
       "    <tr>\n",
       "      <th>4</th>\n",
       "      <td>4</td>\n",
       "      <td>opel</td>\n",
       "      <td>combo</td>\n",
       "      <td>gen-d-2011</td>\n",
       "      <td>2014</td>\n",
       "      <td>103000</td>\n",
       "      <td>1400</td>\n",
       "      <td>CNG</td>\n",
       "      <td>Tarnowskie Góry</td>\n",
       "      <td>Śląskie</td>\n",
       "      <td>35900</td>\n",
       "    </tr>\n",
       "  </tbody>\n",
       "</table>\n",
       "</div>"
      ],
      "text/plain": [
       "   Unnamed: 0  mark  model generation_name  year  mileage  vol_engine    fuel  \\\n",
       "0           0  opel  combo      gen-d-2011  2015   139568        1248  Diesel   \n",
       "1           1  opel  combo      gen-d-2011  2018    31991        1499  Diesel   \n",
       "2           2  opel  combo      gen-d-2011  2015   278437        1598  Diesel   \n",
       "3           3  opel  combo      gen-d-2011  2016    47600        1248  Diesel   \n",
       "4           4  opel  combo      gen-d-2011  2014   103000        1400     CNG   \n",
       "\n",
       "              city     province  price  \n",
       "0            Janki  Mazowieckie  35900  \n",
       "1         Katowice      Śląskie  78501  \n",
       "2            Brzeg     Opolskie  27000  \n",
       "3        Korfantów     Opolskie  30800  \n",
       "4  Tarnowskie Góry      Śląskie  35900  "
      ]
     },
     "execution_count": 4,
     "metadata": {},
     "output_type": "execute_result"
    }
   ],
   "source": [
    "model.head()"
   ]
  },
  {
   "cell_type": "code",
   "execution_count": 5,
   "metadata": {},
   "outputs": [
    {
     "data": {
      "text/plain": [
       "array(['combo', 'vectra', 'adam', 'agila', 'ampera', 'antara', 'astra',\n",
       "       'corsa', 'crossland-x', 'frontera', 'grandland-x', 'insignia',\n",
       "       'vivaro', 'zafira', 'karl', 'meriva', 'mokka', 'omega', 'signum',\n",
       "       'tigra'], dtype=object)"
      ]
     },
     "execution_count": 5,
     "metadata": {},
     "output_type": "execute_result"
    }
   ],
   "source": [
    "groups = model.groupby('mark', axis=0)\n",
    "mark_models = groups['model'].unique()\n",
    "mark_models['opel']"
   ]
  },
  {
   "cell_type": "code",
   "execution_count": 6,
   "metadata": {},
   "outputs": [],
   "source": [
    "export_models = {mod:mark_models[mod] for mod in mark_models.index}"
   ]
  },
  {
   "cell_type": "code",
   "execution_count": 7,
   "metadata": {},
   "outputs": [
    {
     "data": {
      "text/plain": [
       "{'alfa-romeo': array(['147', '159', 'giulia', 'giulietta', 'mito'], dtype=object),\n",
       " 'audi': array(['a3', '80', 'a1', 'a2', 'a4', 'a4-allroad', 'a5', 'a6',\n",
       "        'a6-allroad', 'a7', 'a8', 'e-tron', 'q2', 'q3', 'q4-sportback',\n",
       "        'q5', 'q7', 'q8', 'rs3', 'rs5', 'rs6', 'rs-q3', 's3', 's5', 's8',\n",
       "        'sq5', 'tt'], dtype=object),\n",
       " 'bmw': array(['3gt', '5gt', 'i3', 'm2', 'm3', 'm4', 'm5', 'm8', 'seria-1',\n",
       "        'seria-2', 'seria-3', 'seria-4', 'seria-5', 'seria-6', 'seria-7',\n",
       "        'seria-8', 'x1', 'x2', 'x3', 'x4', 'x5', 'x5-m', 'x6', 'x6-m',\n",
       "        'x7'], dtype=object),\n",
       " 'chevrolet': array(['aveo', 'camaro', 'cruze', 'orlando'], dtype=object),\n",
       " 'citroen': array(['berlingo', 'c3-aircross', 'c3-picasso', 'c4-cactus',\n",
       "        'c4-grand-picasso', 'c4-picasso', 'c5', 'c5-aircross', 'ds3',\n",
       "        'ds4', 'ds5', 'xsara-picasso'], dtype=object),\n",
       " 'fiat': array(['500', '500l', '500x', 'bravo', 'doblo', 'freemont',\n",
       "        'grande-punto', 'panda', 'punto', 'punto-evo', 'tipo'],\n",
       "       dtype=object),\n",
       " 'ford': array(['b-max', 'c-max', 'ecosport', 'edge', 'escape', 'explorer', 'f150',\n",
       "        'fiesta', 'focus', 'focus-c-max', 'fusion', 'galaxy',\n",
       "        'grand-c-max', 'ka', 'kuga', 'mondeo', 'mustang', 'mustang-mach-e',\n",
       "        'puma', 'ranger', 's-max', 'tourneo-connect', 'tourneo-courier',\n",
       "        'tourneo-custom', 'transit', 'transit-connect', 'transit-custom'],\n",
       "       dtype=object),\n",
       " 'honda': array(['accord', 'cr-v', 'hr-v', 'jazz', 'civic'], dtype=object),\n",
       " 'hyundai': array(['elantra', 'i10', 'i20', 'i30', 'i40', 'ix20', 'ix35', 'kona',\n",
       "        'santa-fe', 'tucson'], dtype=object),\n",
       " 'kia': array(['carens', 'ceed', 'optima', 'picanto', 'pro-ceed', 'sorento',\n",
       "        'soul', 'sportage', 'stinger', 'stonic', 'venga', 'xceed'],\n",
       "       dtype=object),\n",
       " 'mazda': array(['2', '3', '5', '6', 'cx-3', 'cx-5', 'cx-7', 'cx-9', 'cx-30',\n",
       "        'mx-5'], dtype=object),\n",
       " 'mercedes-benz': array(['amg-gt', 'citan', 'cl-klasa', 'cla-klasa', 'clk-klasa',\n",
       "        'cls-klasa', 'gl-klasa', 'gla-klasa', 'glb-klasa', 'glc-klasa',\n",
       "        'gle-klasa', 'glk-klasa', 'gls-klasa', 'a-klasa', 'b-klasa',\n",
       "        'c-klasa', 'e-klasa', 'g-klasa', 'r-klasa', 's-klasa', 'v-klasa',\n",
       "        'm-klasa', 'sl', 'slk-klasa', 'sprinter', 'viano', 'vito'],\n",
       "       dtype=object),\n",
       " 'mini': array(['clubman', 'cooper', 'cooper-s', 'countryman', 'one'], dtype=object),\n",
       " 'mitsubishi': array(['asx', 'colt', 'eclipse-cross', 'lancer', 'outlander',\n",
       "        'space-star'], dtype=object),\n",
       " 'nissan': array(['almera', 'juke', 'leaf', 'micra', 'murano', 'note', 'patrol',\n",
       "        'primera', 'qashqai', 'qashqai-2', 'x-trail'], dtype=object),\n",
       " 'opel': array(['combo', 'vectra', 'adam', 'agila', 'ampera', 'antara', 'astra',\n",
       "        'corsa', 'crossland-x', 'frontera', 'grandland-x', 'insignia',\n",
       "        'vivaro', 'zafira', 'karl', 'meriva', 'mokka', 'omega', 'signum',\n",
       "        'tigra'], dtype=object),\n",
       " 'peugeot': array(['206', '207', '208', '307', '308', '407', '508', '2008', '3008',\n",
       "        '5008', 'expert', 'partner'], dtype=object),\n",
       " 'renault': array(['arkana', 'captur', 'clio', 'espace', 'grand-espace',\n",
       "        'grand-scenic', 'fluence', 'kadjar', 'kangoo', 'koleos', 'laguna',\n",
       "        'megane', 'modus', 'scenic', 'talisman', 'thalia', 'trafic',\n",
       "        'twingo', 'zoe'], dtype=object),\n",
       " 'seat': array(['alhambra', 'altea', 'altea-xl', 'arona', 'ateca', 'exeo', 'ibiza',\n",
       "        'leon', 'toledo'], dtype=object),\n",
       " 'skoda': array(['citigo', 'enyaq', 'fabia', 'kamiq', 'karoq', 'kodiaq', 'octavia',\n",
       "        'rapid', 'roomster', 'scala', 'superb', 'yeti'], dtype=object),\n",
       " 'toyota': array(['auris', 'avensis', 'aygo', 'c-hr', 'camry', 'corolla',\n",
       "        'corolla-verso', 'land-cruiser', 'prius', 'proace-verso', 'rav4',\n",
       "        'sienna', 'yaris', 'verso'], dtype=object),\n",
       " 'volkswagen': array(['amarok', 'arteon', 'beetle', 'caddy', 'california', 'caravelle',\n",
       "        'cc', 'crafter', 'eos', 'fox', 'golf', 'golf-plus',\n",
       "        'golf-sportsvan', 'id4', 'jetta', 'lupo', 'multivan', 'new-beetle',\n",
       "        'passat', 'passat-cc', 'phaeton', 'polo', 'scirocco', 'sharan',\n",
       "        't-cross', 't-roc', 'tiguan', 'tiguan-allspace', 'touareg',\n",
       "        'touran', 'transporter', 'up'], dtype=object),\n",
       " 'volvo': array(['c30', 's40', 's60', 's80', 'v40', 'v50', 'v60', 'v70', 'v90',\n",
       "        'xc-40', 'xc-60', 'xc-70', 'xc-90'], dtype=object)}"
      ]
     },
     "execution_count": 7,
     "metadata": {},
     "output_type": "execute_result"
    }
   ],
   "source": [
    "export_models"
   ]
  },
  {
   "cell_type": "code",
   "execution_count": 8,
   "metadata": {},
   "outputs": [],
   "source": [
    "import joblib"
   ]
  },
  {
   "cell_type": "code",
   "execution_count": 9,
   "metadata": {},
   "outputs": [
    {
     "data": {
      "text/plain": [
       "['markmodel']"
      ]
     },
     "execution_count": 9,
     "metadata": {},
     "output_type": "execute_result"
    }
   ],
   "source": [
    "joblib.dump(export_models, filename='markmodel')"
   ]
  },
  {
   "cell_type": "code",
   "execution_count": 14,
   "metadata": {},
   "outputs": [
    {
     "data": {
      "text/plain": [
       "['provinces']"
      ]
     },
     "execution_count": 14,
     "metadata": {},
     "output_type": "execute_result"
    }
   ],
   "source": [
    "province = model['province'].unique()\n",
    "province\n",
    "joblib.dump(province, 'provinces')"
   ]
  },
  {
   "cell_type": "code",
   "execution_count": 13,
   "metadata": {},
   "outputs": [
    {
     "data": {
      "text/plain": [
       "array([1248, 1499, 1598, 1400, 1368, 1600, 1799, 1796, 1994, 1998, 2498,\n",
       "       1995, 2198, 1910, 2171, 3175, 2792, 1597, 2958, 3000, 1398, 1364,\n",
       "        999, 1229, 1200, 1100,  996, 1242, 1000, 1199,  973,  998,    0,\n",
       "       1991, 2231, 3195, 2405, 2200, 2000, 2400, 2384, 1389, 1686, 1700,\n",
       "       1300, 1956, 1354, 1399, 1798, 1900, 1800, 1362, 1341, 1342, 1496,\n",
       "       1589, 1500, 1449, 1488, 1195, 1187, 1235, 1198, 1396, 1560, 3165,\n",
       "       1997, 1599, 2700, 1958, 1953, 2172, 1870, 2464, 1999, 1898, 2463,\n",
       "       1390, 1896, 1968, 1595, 1984, 3200, 1395, 3189, 1197, 1490, 1955,\n",
       "       1596, 1346, 1698, 1685, 2962, 2497, 2959, 2598, 2771, 2309, 1498,\n",
       "       1422, 1781, 1780, 1881, 1895, 2976, 2393, 2496, 2967, 2698, 3123,\n",
       "       3197, 2968, 1963, 2500, 4172, 2495, 2390, 2398, 2773, 4163, 2671,\n",
       "       4200, 2800, 1996, 2995, 2960, 2996, 2957, 3993, 1986, 2986, 2999,\n",
       "       2989, 1967, 2998, 2997, 3936, 3697, 4134, 5998, 6299, 3956, 4000,\n",
       "       3700, 3328, 4199, 3597, 2480, 2894, 2900, 3996, 4991, 3998, 3994,\n",
       "       2993, 4395, 2979,  649,  647,    1,  400, 3246, 3999, 3245, 3201,\n",
       "       2302, 4999, 3795, 4935, 3535, 1495, 2494, 2793, 1990, 1795, 1951,\n",
       "       2926, 1817, 3498, 4398, 3495, 4389, 4799, 1993, 1969, 3982, 3990,\n",
       "       5379, 5972, 3600, 4423, 3901, 4400, 6592, 4399, 6600, 2966, 2925,\n",
       "       4619, 4396, 1949, 1285, 1784, 2461, 1989, 2460, 1588, 1272, 1760,\n",
       "       1570, 1391, 2324, 1890, 1797, 1981, 1716, 2370, 3198, 1386, 2327,\n",
       "       3168, 4921, 6000, 1987, 1360, 1468, 1489, 2459, 1388, 1753, 1562,\n",
       "       3500, 2694, 3496, 1992, 1593, 2485, 2488, 1983, 2261, 2990, 4605,\n",
       "       4015, 3497, 3490, 2264, 4601, 4011, 2956, 2300, 3958, 4016, 6200,\n",
       "       4600, 5400, 3704, 4948, 4788, 6210, 2687, 5000, 4949, 3726, 5409,\n",
       "       4996, 6233, 1299, 1297, 1250, 1241, 1084, 2522, 2521, 1988, 1497,\n",
       "       2286, 2688, 2179, 2483, 2987, 4009, 4606, 3731, 4951, 5038, 3300,\n",
       "       2298, 3797, 4700, 5800, 4737, 4900, 4727, 5763, 3802, 7600, 4730,\n",
       "       6390, 5812, 6384, 2499, 2953, 3196, 1976, 2402, 1461, 1332, 4966,\n",
       "       5439, 5786, 4967, 5513, 5514, 5461, 6208, 4663, 5462, 5980, 1950,\n",
       "       2143, 1333, 1330, 2295, 3199, 4266, 2597, 2685, 2148, 2600, 4780,\n",
       "       3997, 2034, 1699, 2084, 1397, 1478, 1689, 2035, 2151, 2950, 2149,\n",
       "       2799, 3606, 2155, 4196, 3222, 2397, 2717, 4194, 2599, 2199, 3449,\n",
       "       4973, 5987, 5991, 3724, 5500, 4300, 6300, 4978, 1750, 1749, 1322,\n",
       "       1298, 1558,  898,  899,  900, 1149, 1618, 2188, 2946, 1783, 2183,\n",
       "       1862, 1451,  989, 1458, 1590, 1153, 1329, 1794, 1328, 2362, 2487,\n",
       "       3456, 2194, 1587, 2982, 4164, 2755, 3346, 4500, 3499, 4664, 4461,\n",
       "       4608, 3311, 1296, 1288, 1790, 1568, 1970, 2387, 1859, 1742, 2891,\n",
       "       1897,  875, 1206, 1150, 6162, 6199, 6102, 3604, 3822, 3564, 5666,\n",
       "       5700, 3800, 3605, 1868, 2720, 2992,  500,  499,  650,  550, 2360,\n",
       "       2359, 1580, 1251, 1108, 1747, 1850, 2254, 2157, 2354, 2204, 2358,\n",
       "       2356, 1246, 1339, 1245,  988, 1668, 1591, 1582, 1086, 1120, 1353,\n",
       "       1482, 1975, 1682, 1349, 1980, 1985, 2351, 1691, 2648, 2656, 1358,\n",
       "       1561, 3342, 1594, 2184, 2191, 1759, 2260, 2489, 2267, 1840,  850,\n",
       "       1565, 2268, 1124, 1493, 2399, 1584, 2972, 2378, 1193, 1769, 2168,\n",
       "       1481, 1240, 4800, 2826, 4169, 4479, 1878, 1550, 2230, 1666, 1581,\n",
       "       2796, 2401, 2435, 1948, 3192, 4414, 4415, 2783, 2922, 2319, 1477,\n",
       "       1959, 2935], dtype=int64)"
      ]
     },
     "execution_count": 13,
     "metadata": {},
     "output_type": "execute_result"
    }
   ],
   "source": [
    "vol_engine = model['vol_engine'].unique()\n",
    "vol_engine"
   ]
  },
  {
   "cell_type": "code",
   "execution_count": 15,
   "metadata": {},
   "outputs": [
    {
     "data": {
      "text/plain": [
       "array(['Diesel', 'CNG', 'Gasoline', 'LPG', 'Hybrid', 'Electric'],\n",
       "      dtype=object)"
      ]
     },
     "execution_count": 15,
     "metadata": {},
     "output_type": "execute_result"
    }
   ],
   "source": [
    "model['fuel'].unique()"
   ]
  },
  {
   "cell_type": "code",
   "execution_count": null,
   "metadata": {},
   "outputs": [],
   "source": []
  }
 ],
 "metadata": {
  "interpreter": {
   "hash": "0567712bef34149f50dd890d50224273772a0f06480d880e52ac0eca0e98c75d"
  },
  "kernelspec": {
   "display_name": "Python 3.10.4 ('deeplearning')",
   "language": "python",
   "name": "python3"
  },
  "language_info": {
   "codemirror_mode": {
    "name": "ipython",
    "version": 3
   },
   "file_extension": ".py",
   "mimetype": "text/x-python",
   "name": "python",
   "nbconvert_exporter": "python",
   "pygments_lexer": "ipython3",
   "version": "3.10.4"
  },
  "orig_nbformat": 4
 },
 "nbformat": 4,
 "nbformat_minor": 2
}
