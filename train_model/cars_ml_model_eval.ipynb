{
 "cells": [
  {
   "cell_type": "code",
   "execution_count": 1,
   "metadata": {},
   "outputs": [],
   "source": [
    "import pandas as pd\n",
    "import numpy as np\n",
    "import seaborn as sns\n",
    "import matplotlib.pyplot as plt\n",
    "from func.LoadingData import LoadData\n",
    "from func.scores import ModelMetrics"
   ]
  },
  {
   "cell_type": "code",
   "execution_count": 2,
   "metadata": {},
   "outputs": [],
   "source": [
    "%matplotlib inline"
   ]
  },
  {
   "cell_type": "code",
   "execution_count": 3,
   "metadata": {},
   "outputs": [
    {
     "name": "stdout",
     "output_type": "stream",
     "text": [
      "Shape of DataFrame is (117927, 11)\n",
      "\n",
      "<class 'pandas.core.frame.DataFrame'>\n",
      "RangeIndex: 117927 entries, 0 to 117926\n",
      "Data columns (total 11 columns):\n",
      " #   Column           Non-Null Count   Dtype \n",
      "---  ------           --------------   ----- \n",
      " 0   Unnamed: 0       117927 non-null  int64 \n",
      " 1   mark             117927 non-null  object\n",
      " 2   model            117927 non-null  object\n",
      " 3   generation_name  87842 non-null   object\n",
      " 4   year             117927 non-null  int64 \n",
      " 5   mileage          117927 non-null  int64 \n",
      " 6   vol_engine       117927 non-null  int64 \n",
      " 7   fuel             117927 non-null  object\n",
      " 8   city             117927 non-null  object\n",
      " 9   province         117927 non-null  object\n",
      " 10  price            117927 non-null  int64 \n",
      "dtypes: int64(5), object(6)\n",
      "memory usage: 9.9+ MB\n"
     ]
    },
    {
     "data": {
      "text/plain": [
       "None"
      ]
     },
     "metadata": {},
     "output_type": "display_data"
    },
    {
     "name": "stdout",
     "output_type": "stream",
     "text": [
      "\n",
      "Head of DataFrame:\n"
     ]
    },
    {
     "data": {
      "text/html": [
       "<div>\n",
       "<style scoped>\n",
       "    .dataframe tbody tr th:only-of-type {\n",
       "        vertical-align: middle;\n",
       "    }\n",
       "\n",
       "    .dataframe tbody tr th {\n",
       "        vertical-align: top;\n",
       "    }\n",
       "\n",
       "    .dataframe thead th {\n",
       "        text-align: right;\n",
       "    }\n",
       "</style>\n",
       "<table border=\"1\" class=\"dataframe\">\n",
       "  <thead>\n",
       "    <tr style=\"text-align: right;\">\n",
       "      <th></th>\n",
       "      <th>Unnamed: 0</th>\n",
       "      <th>mark</th>\n",
       "      <th>model</th>\n",
       "      <th>generation_name</th>\n",
       "      <th>year</th>\n",
       "      <th>mileage</th>\n",
       "      <th>vol_engine</th>\n",
       "      <th>fuel</th>\n",
       "      <th>city</th>\n",
       "      <th>province</th>\n",
       "      <th>price</th>\n",
       "    </tr>\n",
       "  </thead>\n",
       "  <tbody>\n",
       "    <tr>\n",
       "      <th>0</th>\n",
       "      <td>0</td>\n",
       "      <td>opel</td>\n",
       "      <td>combo</td>\n",
       "      <td>gen-d-2011</td>\n",
       "      <td>2015</td>\n",
       "      <td>139568</td>\n",
       "      <td>1248</td>\n",
       "      <td>Diesel</td>\n",
       "      <td>Janki</td>\n",
       "      <td>Mazowieckie</td>\n",
       "      <td>35900</td>\n",
       "    </tr>\n",
       "    <tr>\n",
       "      <th>1</th>\n",
       "      <td>1</td>\n",
       "      <td>opel</td>\n",
       "      <td>combo</td>\n",
       "      <td>gen-d-2011</td>\n",
       "      <td>2018</td>\n",
       "      <td>31991</td>\n",
       "      <td>1499</td>\n",
       "      <td>Diesel</td>\n",
       "      <td>Katowice</td>\n",
       "      <td>Śląskie</td>\n",
       "      <td>78501</td>\n",
       "    </tr>\n",
       "    <tr>\n",
       "      <th>2</th>\n",
       "      <td>2</td>\n",
       "      <td>opel</td>\n",
       "      <td>combo</td>\n",
       "      <td>gen-d-2011</td>\n",
       "      <td>2015</td>\n",
       "      <td>278437</td>\n",
       "      <td>1598</td>\n",
       "      <td>Diesel</td>\n",
       "      <td>Brzeg</td>\n",
       "      <td>Opolskie</td>\n",
       "      <td>27000</td>\n",
       "    </tr>\n",
       "    <tr>\n",
       "      <th>3</th>\n",
       "      <td>3</td>\n",
       "      <td>opel</td>\n",
       "      <td>combo</td>\n",
       "      <td>gen-d-2011</td>\n",
       "      <td>2016</td>\n",
       "      <td>47600</td>\n",
       "      <td>1248</td>\n",
       "      <td>Diesel</td>\n",
       "      <td>Korfantów</td>\n",
       "      <td>Opolskie</td>\n",
       "      <td>30800</td>\n",
       "    </tr>\n",
       "    <tr>\n",
       "      <th>4</th>\n",
       "      <td>4</td>\n",
       "      <td>opel</td>\n",
       "      <td>combo</td>\n",
       "      <td>gen-d-2011</td>\n",
       "      <td>2014</td>\n",
       "      <td>103000</td>\n",
       "      <td>1400</td>\n",
       "      <td>CNG</td>\n",
       "      <td>Tarnowskie Góry</td>\n",
       "      <td>Śląskie</td>\n",
       "      <td>35900</td>\n",
       "    </tr>\n",
       "  </tbody>\n",
       "</table>\n",
       "</div>"
      ],
      "text/plain": [
       "   Unnamed: 0  mark  model generation_name  year  mileage  vol_engine    fuel  \\\n",
       "0           0  opel  combo      gen-d-2011  2015   139568        1248  Diesel   \n",
       "1           1  opel  combo      gen-d-2011  2018    31991        1499  Diesel   \n",
       "2           2  opel  combo      gen-d-2011  2015   278437        1598  Diesel   \n",
       "3           3  opel  combo      gen-d-2011  2016    47600        1248  Diesel   \n",
       "4           4  opel  combo      gen-d-2011  2014   103000        1400     CNG   \n",
       "\n",
       "              city     province  price  \n",
       "0            Janki  Mazowieckie  35900  \n",
       "1         Katowice      Śląskie  78501  \n",
       "2            Brzeg     Opolskie  27000  \n",
       "3        Korfantów     Opolskie  30800  \n",
       "4  Tarnowskie Góry      Śląskie  35900  "
      ]
     },
     "metadata": {},
     "output_type": "display_data"
    },
    {
     "name": "stdout",
     "output_type": "stream",
     "text": [
      "\n",
      "Dataset statistics:\n"
     ]
    },
    {
     "data": {
      "text/html": [
       "<div>\n",
       "<style scoped>\n",
       "    .dataframe tbody tr th:only-of-type {\n",
       "        vertical-align: middle;\n",
       "    }\n",
       "\n",
       "    .dataframe tbody tr th {\n",
       "        vertical-align: top;\n",
       "    }\n",
       "\n",
       "    .dataframe thead th {\n",
       "        text-align: right;\n",
       "    }\n",
       "</style>\n",
       "<table border=\"1\" class=\"dataframe\">\n",
       "  <thead>\n",
       "    <tr style=\"text-align: right;\">\n",
       "      <th></th>\n",
       "      <th>Unnamed: 0</th>\n",
       "      <th>year</th>\n",
       "      <th>mileage</th>\n",
       "      <th>vol_engine</th>\n",
       "      <th>price</th>\n",
       "    </tr>\n",
       "  </thead>\n",
       "  <tbody>\n",
       "    <tr>\n",
       "      <th>count</th>\n",
       "      <td>117927.000000</td>\n",
       "      <td>117927.000000</td>\n",
       "      <td>1.179270e+05</td>\n",
       "      <td>117927.000000</td>\n",
       "      <td>1.179270e+05</td>\n",
       "    </tr>\n",
       "    <tr>\n",
       "      <th>mean</th>\n",
       "      <td>58963.000000</td>\n",
       "      <td>2012.925259</td>\n",
       "      <td>1.409768e+05</td>\n",
       "      <td>1812.057782</td>\n",
       "      <td>7.029988e+04</td>\n",
       "    </tr>\n",
       "    <tr>\n",
       "      <th>std</th>\n",
       "      <td>34042.736935</td>\n",
       "      <td>5.690135</td>\n",
       "      <td>9.236936e+04</td>\n",
       "      <td>643.613438</td>\n",
       "      <td>8.482458e+04</td>\n",
       "    </tr>\n",
       "    <tr>\n",
       "      <th>min</th>\n",
       "      <td>0.000000</td>\n",
       "      <td>1945.000000</td>\n",
       "      <td>0.000000e+00</td>\n",
       "      <td>0.000000</td>\n",
       "      <td>5.000000e+02</td>\n",
       "    </tr>\n",
       "    <tr>\n",
       "      <th>25%</th>\n",
       "      <td>29481.500000</td>\n",
       "      <td>2009.000000</td>\n",
       "      <td>6.700000e+04</td>\n",
       "      <td>1461.000000</td>\n",
       "      <td>2.100000e+04</td>\n",
       "    </tr>\n",
       "    <tr>\n",
       "      <th>50%</th>\n",
       "      <td>58963.000000</td>\n",
       "      <td>2013.000000</td>\n",
       "      <td>1.462690e+05</td>\n",
       "      <td>1796.000000</td>\n",
       "      <td>4.190000e+04</td>\n",
       "    </tr>\n",
       "    <tr>\n",
       "      <th>75%</th>\n",
       "      <td>88444.500000</td>\n",
       "      <td>2018.000000</td>\n",
       "      <td>2.030000e+05</td>\n",
       "      <td>1995.000000</td>\n",
       "      <td>8.360000e+04</td>\n",
       "    </tr>\n",
       "    <tr>\n",
       "      <th>max</th>\n",
       "      <td>117926.000000</td>\n",
       "      <td>2022.000000</td>\n",
       "      <td>2.800000e+06</td>\n",
       "      <td>7600.000000</td>\n",
       "      <td>2.399900e+06</td>\n",
       "    </tr>\n",
       "  </tbody>\n",
       "</table>\n",
       "</div>"
      ],
      "text/plain": [
       "          Unnamed: 0           year       mileage     vol_engine         price\n",
       "count  117927.000000  117927.000000  1.179270e+05  117927.000000  1.179270e+05\n",
       "mean    58963.000000    2012.925259  1.409768e+05    1812.057782  7.029988e+04\n",
       "std     34042.736935       5.690135  9.236936e+04     643.613438  8.482458e+04\n",
       "min         0.000000    1945.000000  0.000000e+00       0.000000  5.000000e+02\n",
       "25%     29481.500000    2009.000000  6.700000e+04    1461.000000  2.100000e+04\n",
       "50%     58963.000000    2013.000000  1.462690e+05    1796.000000  4.190000e+04\n",
       "75%     88444.500000    2018.000000  2.030000e+05    1995.000000  8.360000e+04\n",
       "max    117926.000000    2022.000000  2.800000e+06    7600.000000  2.399900e+06"
      ]
     },
     "metadata": {},
     "output_type": "display_data"
    },
    {
     "name": "stdout",
     "output_type": "stream",
     "text": [
      "\n",
      "Number of NaN values in DataFrame:\n"
     ]
    },
    {
     "data": {
      "text/plain": [
       "Unnamed: 0             0\n",
       "mark                   0\n",
       "model                  0\n",
       "generation_name    30085\n",
       "year                   0\n",
       "mileage                0\n",
       "vol_engine             0\n",
       "fuel                   0\n",
       "city                   0\n",
       "province               0\n",
       "price                  0\n",
       "dtype: int64"
      ]
     },
     "metadata": {},
     "output_type": "display_data"
    },
    {
     "name": "stdout",
     "output_type": "stream",
     "text": [
      "\n",
      "Number of duplicates in DataFrame:\n"
     ]
    },
    {
     "data": {
      "text/plain": [
       "0"
      ]
     },
     "metadata": {},
     "output_type": "display_data"
    },
    {
     "name": "stdout",
     "output_type": "stream",
     "text": [
      "\n",
      "Visualisation of missing values in data set:\n"
     ]
    },
    {
     "data": {
      "image/png": "[encoded data removed]",
      "text/plain": [
       "<Figure size 792x504 with 1 Axes>"
      ]
     },
     "metadata": {
      "needs_background": "light"
     },
     "output_type": "display_data"
    }
   ],
   "source": [
    "d = LoadData('Car_Prices_Poland_Kaggle.csv')\n",
    "cars = d.create_data()"
   ]
  },
  {
   "cell_type": "code",
   "execution_count": 4,
   "metadata": {},
   "outputs": [],
   "source": [
    "cars.drop(columns=['Unnamed: 0', 'generation_name'], axis=1, inplace=True)"
   ]
  },
  {
   "cell_type": "code",
   "execution_count": 5,
   "metadata": {},
   "outputs": [
    {
     "data": {
      "text/html": [
       "<div>\n",
       "<style scoped>\n",
       "    .dataframe tbody tr th:only-of-type {\n",
       "        vertical-align: middle;\n",
       "    }\n",
       "\n",
       "    .dataframe tbody tr th {\n",
       "        vertical-align: top;\n",
       "    }\n",
       "\n",
       "    .dataframe thead th {\n",
       "        text-align: right;\n",
       "    }\n",
       "</style>\n",
       "<table border=\"1\" class=\"dataframe\">\n",
       "  <thead>\n",
       "    <tr style=\"text-align: right;\">\n",
       "      <th></th>\n",
       "      <th>mark</th>\n",
       "      <th>model</th>\n",
       "      <th>year</th>\n",
       "      <th>mileage</th>\n",
       "      <th>vol_engine</th>\n",
       "      <th>fuel</th>\n",
       "      <th>city</th>\n",
       "      <th>province</th>\n",
       "      <th>price</th>\n",
       "    </tr>\n",
       "  </thead>\n",
       "  <tbody>\n",
       "    <tr>\n",
       "      <th>0</th>\n",
       "      <td>opel</td>\n",
       "      <td>combo</td>\n",
       "      <td>2015</td>\n",
       "      <td>139568</td>\n",
       "      <td>1248</td>\n",
       "      <td>Diesel</td>\n",
       "      <td>Janki</td>\n",
       "      <td>Mazowieckie</td>\n",
       "      <td>35900</td>\n",
       "    </tr>\n",
       "    <tr>\n",
       "      <th>1</th>\n",
       "      <td>opel</td>\n",
       "      <td>combo</td>\n",
       "      <td>2018</td>\n",
       "      <td>31991</td>\n",
       "      <td>1499</td>\n",
       "      <td>Diesel</td>\n",
       "      <td>Katowice</td>\n",
       "      <td>Śląskie</td>\n",
       "      <td>78501</td>\n",
       "    </tr>\n",
       "    <tr>\n",
       "      <th>2</th>\n",
       "      <td>opel</td>\n",
       "      <td>combo</td>\n",
       "      <td>2015</td>\n",
       "      <td>278437</td>\n",
       "      <td>1598</td>\n",
       "      <td>Diesel</td>\n",
       "      <td>Brzeg</td>\n",
       "      <td>Opolskie</td>\n",
       "      <td>27000</td>\n",
       "    </tr>\n",
       "    <tr>\n",
       "      <th>3</th>\n",
       "      <td>opel</td>\n",
       "      <td>combo</td>\n",
       "      <td>2016</td>\n",
       "      <td>47600</td>\n",
       "      <td>1248</td>\n",
       "      <td>Diesel</td>\n",
       "      <td>Korfantów</td>\n",
       "      <td>Opolskie</td>\n",
       "      <td>30800</td>\n",
       "    </tr>\n",
       "    <tr>\n",
       "      <th>4</th>\n",
       "      <td>opel</td>\n",
       "      <td>combo</td>\n",
       "      <td>2014</td>\n",
       "      <td>103000</td>\n",
       "      <td>1400</td>\n",
       "      <td>CNG</td>\n",
       "      <td>Tarnowskie Góry</td>\n",
       "      <td>Śląskie</td>\n",
       "      <td>35900</td>\n",
       "    </tr>\n",
       "  </tbody>\n",
       "</table>\n",
       "</div>"
      ],
      "text/plain": [
       "   mark  model  year  mileage  vol_engine    fuel             city  \\\n",
       "0  opel  combo  2015   139568        1248  Diesel            Janki   \n",
       "1  opel  combo  2018    31991        1499  Diesel         Katowice   \n",
       "2  opel  combo  2015   278437        1598  Diesel            Brzeg   \n",
       "3  opel  combo  2016    47600        1248  Diesel        Korfantów   \n",
       "4  opel  combo  2014   103000        1400     CNG  Tarnowskie Góry   \n",
       "\n",
       "      province  price  \n",
       "0  Mazowieckie  35900  \n",
       "1      Śląskie  78501  \n",
       "2     Opolskie  27000  \n",
       "3     Opolskie  30800  \n",
       "4      Śląskie  35900  "
      ]
     },
     "execution_count": 5,
     "metadata": {},
     "output_type": "execute_result"
    }
   ],
   "source": [
    "cars.head()"
   ]
  },
  {
   "cell_type": "code",
   "execution_count": 6,
   "metadata": {},
   "outputs": [
    {
     "data": {
      "text/plain": [
       "mark          0\n",
       "model         0\n",
       "year          0\n",
       "mileage       0\n",
       "vol_engine    0\n",
       "fuel          0\n",
       "city          0\n",
       "province      0\n",
       "price         0\n",
       "dtype: int64"
      ]
     },
     "execution_count": 6,
     "metadata": {},
     "output_type": "execute_result"
    }
   ],
   "source": [
    "cars.isna().sum()"
   ]
  },
  {
   "cell_type": "code",
   "execution_count": 7,
   "metadata": {},
   "outputs": [
    {
     "data": {
      "text/html": [
       "<div>\n",
       "<style scoped>\n",
       "    .dataframe tbody tr th:only-of-type {\n",
       "        vertical-align: middle;\n",
       "    }\n",
       "\n",
       "    .dataframe tbody tr th {\n",
       "        vertical-align: top;\n",
       "    }\n",
       "\n",
       "    .dataframe thead th {\n",
       "        text-align: right;\n",
       "    }\n",
       "</style>\n",
       "<table border=\"1\" class=\"dataframe\">\n",
       "  <thead>\n",
       "    <tr style=\"text-align: right;\">\n",
       "      <th></th>\n",
       "      <th>year</th>\n",
       "      <th>mileage</th>\n",
       "      <th>vol_engine</th>\n",
       "      <th>price</th>\n",
       "      <th>mark_audi</th>\n",
       "      <th>mark_bmw</th>\n",
       "      <th>mark_chevrolet</th>\n",
       "      <th>mark_citroen</th>\n",
       "      <th>mark_fiat</th>\n",
       "      <th>mark_ford</th>\n",
       "      <th>...</th>\n",
       "      <th>province_Podlaskie</th>\n",
       "      <th>province_Pomorskie</th>\n",
       "      <th>province_Trenczyn</th>\n",
       "      <th>province_Warmińsko-mazurskie</th>\n",
       "      <th>province_Wiedeń</th>\n",
       "      <th>province_Wielkopolskie</th>\n",
       "      <th>province_Zachodniopomorskie</th>\n",
       "      <th>province_Łódzkie</th>\n",
       "      <th>province_Śląskie</th>\n",
       "      <th>province_Świętokrzyskie</th>\n",
       "    </tr>\n",
       "  </thead>\n",
       "  <tbody>\n",
       "    <tr>\n",
       "      <th>0</th>\n",
       "      <td>2015</td>\n",
       "      <td>139568</td>\n",
       "      <td>1248</td>\n",
       "      <td>35900</td>\n",
       "      <td>0</td>\n",
       "      <td>0</td>\n",
       "      <td>0</td>\n",
       "      <td>0</td>\n",
       "      <td>0</td>\n",
       "      <td>0</td>\n",
       "      <td>...</td>\n",
       "      <td>0</td>\n",
       "      <td>0</td>\n",
       "      <td>0</td>\n",
       "      <td>0</td>\n",
       "      <td>0</td>\n",
       "      <td>0</td>\n",
       "      <td>0</td>\n",
       "      <td>0</td>\n",
       "      <td>0</td>\n",
       "      <td>0</td>\n",
       "    </tr>\n",
       "    <tr>\n",
       "      <th>1</th>\n",
       "      <td>2018</td>\n",
       "      <td>31991</td>\n",
       "      <td>1499</td>\n",
       "      <td>78501</td>\n",
       "      <td>0</td>\n",
       "      <td>0</td>\n",
       "      <td>0</td>\n",
       "      <td>0</td>\n",
       "      <td>0</td>\n",
       "      <td>0</td>\n",
       "      <td>...</td>\n",
       "      <td>0</td>\n",
       "      <td>0</td>\n",
       "      <td>0</td>\n",
       "      <td>0</td>\n",
       "      <td>0</td>\n",
       "      <td>0</td>\n",
       "      <td>0</td>\n",
       "      <td>0</td>\n",
       "      <td>1</td>\n",
       "      <td>0</td>\n",
       "    </tr>\n",
       "    <tr>\n",
       "      <th>2</th>\n",
       "      <td>2015</td>\n",
       "      <td>278437</td>\n",
       "      <td>1598</td>\n",
       "      <td>27000</td>\n",
       "      <td>0</td>\n",
       "      <td>0</td>\n",
       "      <td>0</td>\n",
       "      <td>0</td>\n",
       "      <td>0</td>\n",
       "      <td>0</td>\n",
       "      <td>...</td>\n",
       "      <td>0</td>\n",
       "      <td>0</td>\n",
       "      <td>0</td>\n",
       "      <td>0</td>\n",
       "      <td>0</td>\n",
       "      <td>0</td>\n",
       "      <td>0</td>\n",
       "      <td>0</td>\n",
       "      <td>0</td>\n",
       "      <td>0</td>\n",
       "    </tr>\n",
       "    <tr>\n",
       "      <th>3</th>\n",
       "      <td>2016</td>\n",
       "      <td>47600</td>\n",
       "      <td>1248</td>\n",
       "      <td>30800</td>\n",
       "      <td>0</td>\n",
       "      <td>0</td>\n",
       "      <td>0</td>\n",
       "      <td>0</td>\n",
       "      <td>0</td>\n",
       "      <td>0</td>\n",
       "      <td>...</td>\n",
       "      <td>0</td>\n",
       "      <td>0</td>\n",
       "      <td>0</td>\n",
       "      <td>0</td>\n",
       "      <td>0</td>\n",
       "      <td>0</td>\n",
       "      <td>0</td>\n",
       "      <td>0</td>\n",
       "      <td>0</td>\n",
       "      <td>0</td>\n",
       "    </tr>\n",
       "    <tr>\n",
       "      <th>4</th>\n",
       "      <td>2014</td>\n",
       "      <td>103000</td>\n",
       "      <td>1400</td>\n",
       "      <td>35900</td>\n",
       "      <td>0</td>\n",
       "      <td>0</td>\n",
       "      <td>0</td>\n",
       "      <td>0</td>\n",
       "      <td>0</td>\n",
       "      <td>0</td>\n",
       "      <td>...</td>\n",
       "      <td>0</td>\n",
       "      <td>0</td>\n",
       "      <td>0</td>\n",
       "      <td>0</td>\n",
       "      <td>0</td>\n",
       "      <td>0</td>\n",
       "      <td>0</td>\n",
       "      <td>0</td>\n",
       "      <td>1</td>\n",
       "      <td>0</td>\n",
       "    </tr>\n",
       "  </tbody>\n",
       "</table>\n",
       "<p>5 rows × 4806 columns</p>\n",
       "</div>"
      ],
      "text/plain": [
       "   year  mileage  vol_engine  price  mark_audi  mark_bmw  mark_chevrolet  \\\n",
       "0  2015   139568        1248  35900          0         0               0   \n",
       "1  2018    31991        1499  78501          0         0               0   \n",
       "2  2015   278437        1598  27000          0         0               0   \n",
       "3  2016    47600        1248  30800          0         0               0   \n",
       "4  2014   103000        1400  35900          0         0               0   \n",
       "\n",
       "   mark_citroen  mark_fiat  mark_ford  ...  province_Podlaskie  \\\n",
       "0             0          0          0  ...                   0   \n",
       "1             0          0          0  ...                   0   \n",
       "2             0          0          0  ...                   0   \n",
       "3             0          0          0  ...                   0   \n",
       "4             0          0          0  ...                   0   \n",
       "\n",
       "   province_Pomorskie  province_Trenczyn  province_Warmińsko-mazurskie  \\\n",
       "0                   0                  0                             0   \n",
       "1                   0                  0                             0   \n",
       "2                   0                  0                             0   \n",
       "3                   0                  0                             0   \n",
       "4                   0                  0                             0   \n",
       "\n",
       "   province_Wiedeń  province_Wielkopolskie  province_Zachodniopomorskie  \\\n",
       "0                0                       0                            0   \n",
       "1                0                       0                            0   \n",
       "2                0                       0                            0   \n",
       "3                0                       0                            0   \n",
       "4                0                       0                            0   \n",
       "\n",
       "   province_Łódzkie  province_Śląskie  province_Świętokrzyskie  \n",
       "0                 0                 0                        0  \n",
       "1                 0                 1                        0  \n",
       "2                 0                 0                        0  \n",
       "3                 0                 0                        0  \n",
       "4                 0                 1                        0  \n",
       "\n",
       "[5 rows x 4806 columns]"
      ]
     },
     "execution_count": 7,
     "metadata": {},
     "output_type": "execute_result"
    }
   ],
   "source": [
    "cars_dumm = pd.get_dummies(data=cars, columns=['mark', 'model','fuel','city','province'],drop_first=True)\n",
    "cars_dumm.head()"
   ]
  },
  {
   "cell_type": "code",
   "execution_count": 8,
   "metadata": {},
   "outputs": [
    {
     "name": "stdout",
     "output_type": "stream",
     "text": [
      "4806\n"
     ]
    },
    {
     "data": {
      "text/plain": [
       "Index(['year', 'mileage', 'vol_engine', 'price', 'mark_audi', 'mark_bmw',\n",
       "       'mark_chevrolet', 'mark_citroen', 'mark_fiat', 'mark_ford',\n",
       "       ...\n",
       "       'province_Podlaskie', 'province_Pomorskie', 'province_Trenczyn',\n",
       "       'province_Warmińsko-mazurskie', 'province_Wiedeń',\n",
       "       'province_Wielkopolskie', 'province_Zachodniopomorskie',\n",
       "       'province_Łódzkie', 'province_Śląskie', 'province_Świętokrzyskie'],\n",
       "      dtype='object', length=4806)"
      ]
     },
     "execution_count": 8,
     "metadata": {},
     "output_type": "execute_result"
    }
   ],
   "source": [
    "print(len(cars_dumm.columns))\n",
    "cars_dumm.columns"
   ]
  },
  {
   "cell_type": "code",
   "execution_count": 9,
   "metadata": {},
   "outputs": [],
   "source": [
    "renaming = {cars_dumm.columns[i]: cars_dumm.columns[i].split('_')[1] for i in range(4, len(cars_dumm.columns))}"
   ]
  },
  {
   "cell_type": "code",
   "execution_count": 10,
   "metadata": {},
   "outputs": [
    {
     "data": {
      "text/html": [
       "<div>\n",
       "<style scoped>\n",
       "    .dataframe tbody tr th:only-of-type {\n",
       "        vertical-align: middle;\n",
       "    }\n",
       "\n",
       "    .dataframe tbody tr th {\n",
       "        vertical-align: top;\n",
       "    }\n",
       "\n",
       "    .dataframe thead th {\n",
       "        text-align: right;\n",
       "    }\n",
       "</style>\n",
       "<table border=\"1\" class=\"dataframe\">\n",
       "  <thead>\n",
       "    <tr style=\"text-align: right;\">\n",
       "      <th></th>\n",
       "      <th>year</th>\n",
       "      <th>mileage</th>\n",
       "      <th>vol_engine</th>\n",
       "      <th>price</th>\n",
       "      <th>audi</th>\n",
       "      <th>bmw</th>\n",
       "      <th>chevrolet</th>\n",
       "      <th>citroen</th>\n",
       "      <th>fiat</th>\n",
       "      <th>ford</th>\n",
       "      <th>...</th>\n",
       "      <th>Podlaskie</th>\n",
       "      <th>Pomorskie</th>\n",
       "      <th>Trenczyn</th>\n",
       "      <th>Warmińsko-mazurskie</th>\n",
       "      <th>Wiedeń</th>\n",
       "      <th>Wielkopolskie</th>\n",
       "      <th>Zachodniopomorskie</th>\n",
       "      <th>Łódzkie</th>\n",
       "      <th>Śląskie</th>\n",
       "      <th>Świętokrzyskie</th>\n",
       "    </tr>\n",
       "  </thead>\n",
       "  <tbody>\n",
       "    <tr>\n",
       "      <th>0</th>\n",
       "      <td>2015</td>\n",
       "      <td>139568</td>\n",
       "      <td>1248</td>\n",
       "      <td>35900</td>\n",
       "      <td>0</td>\n",
       "      <td>0</td>\n",
       "      <td>0</td>\n",
       "      <td>0</td>\n",
       "      <td>0</td>\n",
       "      <td>0</td>\n",
       "      <td>...</td>\n",
       "      <td>0</td>\n",
       "      <td>0</td>\n",
       "      <td>0</td>\n",
       "      <td>0</td>\n",
       "      <td>0</td>\n",
       "      <td>0</td>\n",
       "      <td>0</td>\n",
       "      <td>0</td>\n",
       "      <td>0</td>\n",
       "      <td>0</td>\n",
       "    </tr>\n",
       "    <tr>\n",
       "      <th>1</th>\n",
       "      <td>2018</td>\n",
       "      <td>31991</td>\n",
       "      <td>1499</td>\n",
       "      <td>78501</td>\n",
       "      <td>0</td>\n",
       "      <td>0</td>\n",
       "      <td>0</td>\n",
       "      <td>0</td>\n",
       "      <td>0</td>\n",
       "      <td>0</td>\n",
       "      <td>...</td>\n",
       "      <td>0</td>\n",
       "      <td>0</td>\n",
       "      <td>0</td>\n",
       "      <td>0</td>\n",
       "      <td>0</td>\n",
       "      <td>0</td>\n",
       "      <td>0</td>\n",
       "      <td>0</td>\n",
       "      <td>1</td>\n",
       "      <td>0</td>\n",
       "    </tr>\n",
       "    <tr>\n",
       "      <th>2</th>\n",
       "      <td>2015</td>\n",
       "      <td>278437</td>\n",
       "      <td>1598</td>\n",
       "      <td>27000</td>\n",
       "      <td>0</td>\n",
       "      <td>0</td>\n",
       "      <td>0</td>\n",
       "      <td>0</td>\n",
       "      <td>0</td>\n",
       "      <td>0</td>\n",
       "      <td>...</td>\n",
       "      <td>0</td>\n",
       "      <td>0</td>\n",
       "      <td>0</td>\n",
       "      <td>0</td>\n",
       "      <td>0</td>\n",
       "      <td>0</td>\n",
       "      <td>0</td>\n",
       "      <td>0</td>\n",
       "      <td>0</td>\n",
       "      <td>0</td>\n",
       "    </tr>\n",
       "    <tr>\n",
       "      <th>3</th>\n",
       "      <td>2016</td>\n",
       "      <td>47600</td>\n",
       "      <td>1248</td>\n",
       "      <td>30800</td>\n",
       "      <td>0</td>\n",
       "      <td>0</td>\n",
       "      <td>0</td>\n",
       "      <td>0</td>\n",
       "      <td>0</td>\n",
       "      <td>0</td>\n",
       "      <td>...</td>\n",
       "      <td>0</td>\n",
       "      <td>0</td>\n",
       "      <td>0</td>\n",
       "      <td>0</td>\n",
       "      <td>0</td>\n",
       "      <td>0</td>\n",
       "      <td>0</td>\n",
       "      <td>0</td>\n",
       "      <td>0</td>\n",
       "      <td>0</td>\n",
       "    </tr>\n",
       "    <tr>\n",
       "      <th>4</th>\n",
       "      <td>2014</td>\n",
       "      <td>103000</td>\n",
       "      <td>1400</td>\n",
       "      <td>35900</td>\n",
       "      <td>0</td>\n",
       "      <td>0</td>\n",
       "      <td>0</td>\n",
       "      <td>0</td>\n",
       "      <td>0</td>\n",
       "      <td>0</td>\n",
       "      <td>...</td>\n",
       "      <td>0</td>\n",
       "      <td>0</td>\n",
       "      <td>0</td>\n",
       "      <td>0</td>\n",
       "      <td>0</td>\n",
       "      <td>0</td>\n",
       "      <td>0</td>\n",
       "      <td>0</td>\n",
       "      <td>1</td>\n",
       "      <td>0</td>\n",
       "    </tr>\n",
       "    <tr>\n",
       "      <th>...</th>\n",
       "      <td>...</td>\n",
       "      <td>...</td>\n",
       "      <td>...</td>\n",
       "      <td>...</td>\n",
       "      <td>...</td>\n",
       "      <td>...</td>\n",
       "      <td>...</td>\n",
       "      <td>...</td>\n",
       "      <td>...</td>\n",
       "      <td>...</td>\n",
       "      <td>...</td>\n",
       "      <td>...</td>\n",
       "      <td>...</td>\n",
       "      <td>...</td>\n",
       "      <td>...</td>\n",
       "      <td>...</td>\n",
       "      <td>...</td>\n",
       "      <td>...</td>\n",
       "      <td>...</td>\n",
       "      <td>...</td>\n",
       "      <td>...</td>\n",
       "    </tr>\n",
       "    <tr>\n",
       "      <th>117922</th>\n",
       "      <td>2020</td>\n",
       "      <td>40000</td>\n",
       "      <td>1969</td>\n",
       "      <td>222790</td>\n",
       "      <td>0</td>\n",
       "      <td>0</td>\n",
       "      <td>0</td>\n",
       "      <td>0</td>\n",
       "      <td>0</td>\n",
       "      <td>0</td>\n",
       "      <td>...</td>\n",
       "      <td>0</td>\n",
       "      <td>0</td>\n",
       "      <td>0</td>\n",
       "      <td>0</td>\n",
       "      <td>0</td>\n",
       "      <td>0</td>\n",
       "      <td>0</td>\n",
       "      <td>0</td>\n",
       "      <td>1</td>\n",
       "      <td>0</td>\n",
       "    </tr>\n",
       "    <tr>\n",
       "      <th>117923</th>\n",
       "      <td>2017</td>\n",
       "      <td>51000</td>\n",
       "      <td>1969</td>\n",
       "      <td>229900</td>\n",
       "      <td>0</td>\n",
       "      <td>0</td>\n",
       "      <td>0</td>\n",
       "      <td>0</td>\n",
       "      <td>0</td>\n",
       "      <td>0</td>\n",
       "      <td>...</td>\n",
       "      <td>0</td>\n",
       "      <td>0</td>\n",
       "      <td>0</td>\n",
       "      <td>0</td>\n",
       "      <td>0</td>\n",
       "      <td>0</td>\n",
       "      <td>0</td>\n",
       "      <td>1</td>\n",
       "      <td>0</td>\n",
       "      <td>0</td>\n",
       "    </tr>\n",
       "    <tr>\n",
       "      <th>117924</th>\n",
       "      <td>2016</td>\n",
       "      <td>83500</td>\n",
       "      <td>1969</td>\n",
       "      <td>135000</td>\n",
       "      <td>0</td>\n",
       "      <td>0</td>\n",
       "      <td>0</td>\n",
       "      <td>0</td>\n",
       "      <td>0</td>\n",
       "      <td>0</td>\n",
       "      <td>...</td>\n",
       "      <td>0</td>\n",
       "      <td>1</td>\n",
       "      <td>0</td>\n",
       "      <td>0</td>\n",
       "      <td>0</td>\n",
       "      <td>0</td>\n",
       "      <td>0</td>\n",
       "      <td>0</td>\n",
       "      <td>0</td>\n",
       "      <td>0</td>\n",
       "    </tr>\n",
       "    <tr>\n",
       "      <th>117925</th>\n",
       "      <td>2017</td>\n",
       "      <td>174000</td>\n",
       "      <td>1969</td>\n",
       "      <td>154500</td>\n",
       "      <td>0</td>\n",
       "      <td>0</td>\n",
       "      <td>0</td>\n",
       "      <td>0</td>\n",
       "      <td>0</td>\n",
       "      <td>0</td>\n",
       "      <td>...</td>\n",
       "      <td>0</td>\n",
       "      <td>0</td>\n",
       "      <td>0</td>\n",
       "      <td>0</td>\n",
       "      <td>0</td>\n",
       "      <td>1</td>\n",
       "      <td>0</td>\n",
       "      <td>0</td>\n",
       "      <td>0</td>\n",
       "      <td>0</td>\n",
       "    </tr>\n",
       "    <tr>\n",
       "      <th>117926</th>\n",
       "      <td>2016</td>\n",
       "      <td>189020</td>\n",
       "      <td>1969</td>\n",
       "      <td>130000</td>\n",
       "      <td>0</td>\n",
       "      <td>0</td>\n",
       "      <td>0</td>\n",
       "      <td>0</td>\n",
       "      <td>0</td>\n",
       "      <td>0</td>\n",
       "      <td>...</td>\n",
       "      <td>0</td>\n",
       "      <td>0</td>\n",
       "      <td>0</td>\n",
       "      <td>0</td>\n",
       "      <td>0</td>\n",
       "      <td>0</td>\n",
       "      <td>0</td>\n",
       "      <td>0</td>\n",
       "      <td>0</td>\n",
       "      <td>0</td>\n",
       "    </tr>\n",
       "  </tbody>\n",
       "</table>\n",
       "<p>117927 rows × 4806 columns</p>\n",
       "</div>"
      ],
      "text/plain": [
       "        year  mileage  vol_engine   price  audi  bmw  chevrolet  citroen  \\\n",
       "0       2015   139568        1248   35900     0    0          0        0   \n",
       "1       2018    31991        1499   78501     0    0          0        0   \n",
       "2       2015   278437        1598   27000     0    0          0        0   \n",
       "3       2016    47600        1248   30800     0    0          0        0   \n",
       "4       2014   103000        1400   35900     0    0          0        0   \n",
       "...      ...      ...         ...     ...   ...  ...        ...      ...   \n",
       "117922  2020    40000        1969  222790     0    0          0        0   \n",
       "117923  2017    51000        1969  229900     0    0          0        0   \n",
       "117924  2016    83500        1969  135000     0    0          0        0   \n",
       "117925  2017   174000        1969  154500     0    0          0        0   \n",
       "117926  2016   189020        1969  130000     0    0          0        0   \n",
       "\n",
       "        fiat  ford  ...  Podlaskie  Pomorskie  Trenczyn  Warmińsko-mazurskie  \\\n",
       "0          0     0  ...          0          0         0                    0   \n",
       "1          0     0  ...          0          0         0                    0   \n",
       "2          0     0  ...          0          0         0                    0   \n",
       "3          0     0  ...          0          0         0                    0   \n",
       "4          0     0  ...          0          0         0                    0   \n",
       "...      ...   ...  ...        ...        ...       ...                  ...   \n",
       "117922     0     0  ...          0          0         0                    0   \n",
       "117923     0     0  ...          0          0         0                    0   \n",
       "117924     0     0  ...          0          1         0                    0   \n",
       "117925     0     0  ...          0          0         0                    0   \n",
       "117926     0     0  ...          0          0         0                    0   \n",
       "\n",
       "        Wiedeń  Wielkopolskie  Zachodniopomorskie  Łódzkie  Śląskie  \\\n",
       "0            0              0                   0        0        0   \n",
       "1            0              0                   0        0        1   \n",
       "2            0              0                   0        0        0   \n",
       "3            0              0                   0        0        0   \n",
       "4            0              0                   0        0        1   \n",
       "...        ...            ...                 ...      ...      ...   \n",
       "117922       0              0                   0        0        1   \n",
       "117923       0              0                   0        1        0   \n",
       "117924       0              0                   0        0        0   \n",
       "117925       0              1                   0        0        0   \n",
       "117926       0              0                   0        0        0   \n",
       "\n",
       "        Świętokrzyskie  \n",
       "0                    0  \n",
       "1                    0  \n",
       "2                    0  \n",
       "3                    0  \n",
       "4                    0  \n",
       "...                ...  \n",
       "117922               0  \n",
       "117923               0  \n",
       "117924               0  \n",
       "117925               0  \n",
       "117926               0  \n",
       "\n",
       "[117927 rows x 4806 columns]"
      ]
     },
     "execution_count": 10,
     "metadata": {},
     "output_type": "execute_result"
    }
   ],
   "source": [
    "cars_dumm.rename(axis=1, mapper=renaming)"
   ]
  },
  {
   "cell_type": "code",
   "execution_count": 11,
   "metadata": {},
   "outputs": [],
   "source": [
    "from sklearn.decomposition import PCA\n",
    "from sklearn.preprocessing import StandardScaler\n",
    "from sklearn.model_selection import train_test_split"
   ]
  },
  {
   "cell_type": "code",
   "execution_count": 12,
   "metadata": {},
   "outputs": [],
   "source": [
    "sc = StandardScaler()\n",
    "cars_scaled = sc.fit_transform(cars_dumm.values)"
   ]
  },
  {
   "cell_type": "code",
   "execution_count": 13,
   "metadata": {},
   "outputs": [
    {
     "name": "stderr",
     "output_type": "stream",
     "text": [
      "c:\\Users\\barto\\.conda\\envs\\deeplearning\\lib\\site-packages\\tqdm\\auto.py:22: TqdmWarning: IProgress not found. Please update jupyter and ipywidgets. See https://ipywidgets.readthedocs.io/en/stable/user_install.html\n",
      "  from .autonotebook import tqdm as notebook_tqdm\n"
     ]
    }
   ],
   "source": [
    "from func.scores import Tuning\n",
    "import optuna"
   ]
  },
  {
   "cell_type": "code",
   "execution_count": 14,
   "metadata": {},
   "outputs": [
    {
     "name": "stdout",
     "output_type": "stream",
     "text": [
      "[-0.4055432   0.09668365 -0.51046606 ...  0.76275522  0.9926424\n",
      "  0.70380979]\n"
     ]
    },
    {
     "data": {
      "text/plain": [
       "(117927, 4805)"
      ]
     },
     "execution_count": 14,
     "metadata": {},
     "output_type": "execute_result"
    }
   ],
   "source": [
    "print(cars_scaled[:,3])\n",
    "X = np.delete(cars_scaled,3,axis=1)\n",
    "X.shape"
   ]
  },
  {
   "cell_type": "code",
   "execution_count": 15,
   "metadata": {},
   "outputs": [
    {
     "name": "stdout",
     "output_type": "stream",
     "text": [
      "(117927,)\n"
     ]
    },
    {
     "data": {
      "text/plain": [
       "array([-0.4055432 ,  0.09668365, -0.51046606, ...,  0.76275522,\n",
       "        0.9926424 ,  0.70380979])"
      ]
     },
     "execution_count": 15,
     "metadata": {},
     "output_type": "execute_result"
    }
   ],
   "source": [
    "y = cars_scaled[:, 3]\n",
    "print(y.shape)\n",
    "y"
   ]
  },
  {
   "cell_type": "code",
   "execution_count": 16,
   "metadata": {},
   "outputs": [
    {
     "name": "stdout",
     "output_type": "stream",
     "text": [
      "--------shapes--------\n",
      "X train size:  (106134, 4805)\n",
      "y train size:  (106134,)\n",
      "X test size:  (11793, 4805)\n",
      "y test size:  (11793,)\n"
     ]
    },
    {
     "data": {
      "text/plain": [
       "(array([[-1.21706921, -0.55621264,  0.29045853, ..., -0.26766531,\n",
       "         -0.40625707, -0.17064939],\n",
       "        [ 1.59482675, -1.52618128,  0.26715251, ..., -0.26766531,\n",
       "         -0.40625707, -0.17064939],\n",
       "        [-0.33835172,  0.25647374, -0.95563634, ..., -0.26766531,\n",
       "         -0.40625707, -0.17064939],\n",
       "        ...,\n",
       "        [-1.04132572, -0.18919543, -0.66198057, ..., -0.26766531,\n",
       "         -0.40625707, -0.17064939],\n",
       "        [-1.39281271,  1.18030134, -0.19586029, ..., -0.26766531,\n",
       "          2.46149565, -0.17064939],\n",
       "        [ 0.01313527, -0.30179818, -0.02184206, ..., -0.26766531,\n",
       "         -0.40625707, -0.17064939]]),\n",
       " array([[ 0.54036577, -0.84418815, -0.33258891, ..., -0.26766531,\n",
       "         -0.40625707, -0.17064939],\n",
       "        [-8.07106563, -1.52622458,  7.1035832 , ...,  3.73600891,\n",
       "         -0.40625707, -0.17064939],\n",
       "        [ 0.54036577, -0.16647135,  0.28890479, ..., -0.26766531,\n",
       "         -0.40625707, -0.17064939],\n",
       "        ...,\n",
       "        [ 0.54036577,  0.19512196, -0.4910698 , ..., -0.26766531,\n",
       "         -0.40625707, -0.17064939],\n",
       "        [-1.74429971,  0.83386464, -0.04825554, ..., -0.26766531,\n",
       "         -0.40625707, -0.17064939],\n",
       "        [ 0.89185276, -1.40775406, -1.13120831, ..., -0.26766531,\n",
       "         -0.40625707, -0.17064939]]),\n",
       " array([-0.49985589,  1.77543771, -0.60477875, ..., -0.64604055,\n",
       "        -0.76039469, -0.34659777]),\n",
       " array([-0.24521163,  3.64990237,  0.34777939, ..., -0.20512874,\n",
       "        -0.68966017, -0.47627771]))"
      ]
     },
     "execution_count": 16,
     "metadata": {},
     "output_type": "execute_result"
    }
   ],
   "source": [
    "tuning = Tuning(X,y)\n",
    "tuning.split_data(0.1)"
   ]
  },
  {
   "cell_type": "code",
   "execution_count": 17,
   "metadata": {},
   "outputs": [
    {
     "name": "stderr",
     "output_type": "stream",
     "text": [
      "\u001b[32m[I 2022-05-26 21:14:15,131]\u001b[0m A new study created in memory with name: LGBMRegressor\u001b[0m\n",
      "\u001b[32m[I 2022-05-26 21:14:55,136]\u001b[0m Trial 0 finished with value: 0.23379334699054866 and parameters: {'n_estimators': 274, 'reg_alpha': 0.37051351220474626, 'reg_lambda': 0.004938457476414289, 'num_leaves': 210, 'colsample_bytree': 0.5269737203507608, 'subsample': 0.9442290291992869, 'min_child_samples': 84}. Best is trial 0 with value: 0.23379334699054866.\u001b[0m\n",
      "\u001b[32m[I 2022-05-26 21:15:36,407]\u001b[0m Trial 1 finished with value: 0.23872601516148478 and parameters: {'n_estimators': 334, 'reg_alpha': 2.4617576256684695, 'reg_lambda': 0.08829789055927878, 'num_leaves': 209, 'colsample_bytree': 0.8323520960554511, 'subsample': 0.671038497456054, 'min_child_samples': 87}. Best is trial 0 with value: 0.23379334699054866.\u001b[0m\n",
      "\u001b[32m[I 2022-05-26 21:16:28,614]\u001b[0m Trial 2 finished with value: 0.22045531222070466 and parameters: {'n_estimators': 450, 'reg_alpha': 1.9555124459382455e-05, 'reg_lambda': 0.05041977641303833, 'num_leaves': 188, 'colsample_bytree': 0.6236694374251024, 'subsample': 0.6794597168758107, 'min_child_samples': 35}. Best is trial 2 with value: 0.22045531222070466.\u001b[0m\n",
      "\u001b[32m[I 2022-05-26 21:17:04,398]\u001b[0m Trial 3 finished with value: 0.21571525412092118 and parameters: {'n_estimators': 209, 'reg_alpha': 4.579761912253526e-08, 'reg_lambda': 0.05556953835133028, 'num_leaves': 101, 'colsample_bytree': 0.6736001169481415, 'subsample': 0.7741897653550532, 'min_child_samples': 19}. Best is trial 3 with value: 0.21571525412092118.\u001b[0m\n",
      "\u001b[32m[I 2022-05-26 21:17:46,180]\u001b[0m Trial 4 finished with value: 0.23803006213920305 and parameters: {'n_estimators': 272, 'reg_alpha': 0.0059793740691199545, 'reg_lambda': 8.135325137807075e-05, 'num_leaves': 171, 'colsample_bytree': 0.6735380119591755, 'subsample': 0.6808199856542534, 'min_child_samples': 97}. Best is trial 3 with value: 0.21571525412092118.\u001b[0m\n"
     ]
    },
    {
     "name": "stdout",
     "output_type": "stream",
     "text": [
      "{'n_estimators': 209, 'reg_alpha': 4.579761912253526e-08, 'reg_lambda': 0.05556953835133028, 'num_leaves': 101, 'colsample_bytree': 0.6736001169481415, 'subsample': 0.7741897653550532, 'min_child_samples': 19}\n"
     ]
    }
   ],
   "source": [
    "lgbm = tuning.lgbm_tunning()\n",
    "study_lgm = optuna.create_study(direction='minimize', study_name=\"LGBMRegressor\")\n",
    "study_lgm.optimize(lgbm, n_trials=5)\n",
    "print(study_lgm.best_params)"
   ]
  },
  {
   "cell_type": "code",
   "execution_count": 18,
   "metadata": {},
   "outputs": [],
   "source": [
    "from lightgbm import LGBMRegressor\n",
    "from sklearn.metrics import r2_score\n",
    "from xgboost import XGBRFRegressor, XGBRegressor"
   ]
  },
  {
   "cell_type": "code",
   "execution_count": 19,
   "metadata": {},
   "outputs": [
    {
     "data": {
      "text/plain": [
       "0.9521030228353488"
      ]
     },
     "execution_count": 19,
     "metadata": {},
     "output_type": "execute_result"
    }
   ],
   "source": [
    "lg = LGBMRegressor(**study_lgm.best_params)\n",
    "X_train, X_test, y_train, y_test = train_test_split(X, y, test_size=0.15, random_state=42)\n",
    "lg.fit(X_train, y_train)\n",
    "pred = lg.predict(X_test)\n",
    "r2_score(y_test, pred)"
   ]
  },
  {
   "cell_type": "code",
   "execution_count": 20,
   "metadata": {},
   "outputs": [],
   "source": [
    "from func.scores import Tuning\n",
    "from sklearn.model_selection import cross_validate, cross_val_score, KFold\n",
    "from sklearn.metrics import mean_squared_error\n"
   ]
  },
  {
   "cell_type": "code",
   "execution_count": 21,
   "metadata": {},
   "outputs": [
    {
     "name": "stderr",
     "output_type": "stream",
     "text": [
      "\u001b[32m[I 2022-05-26 21:18:46,275]\u001b[0m A new study created in memory with name: XGBoost\u001b[0m\n",
      "\u001b[32m[I 2022-05-26 21:19:40,528]\u001b[0m Trial 0 finished with value: 0.3414903390876768 and parameters: {'n_estimators': 138, 'reg_alpha': 0.7880713762868043, 'max_depth': 9, 'max_leaves': 96, 'eta': 0.7350699614381839, 'min_child_weight': 8, 'subsample': 0.6575320120386451, 'gamma': 0.06486831485624303}. Best is trial 0 with value: 0.3414903390876768.\u001b[0m\n",
      "\u001b[32m[I 2022-05-26 21:20:14,105]\u001b[0m Trial 1 finished with value: 0.370304673236917 and parameters: {'n_estimators': 123, 'reg_alpha': 0.8296004313858523, 'max_depth': 17, 'max_leaves': 46, 'eta': 0.9467557798821492, 'min_child_weight': 13, 'subsample': 0.6778957501360148, 'gamma': 0.11170433517955088}. Best is trial 0 with value: 0.3414903390876768.\u001b[0m\n",
      "\u001b[32m[I 2022-05-26 21:21:02,666]\u001b[0m Trial 2 finished with value: 0.34992182109819814 and parameters: {'n_estimators': 191, 'reg_alpha': 0.35720004451114107, 'max_depth': 7, 'max_leaves': 167, 'eta': 0.24132261840237954, 'min_child_weight': 18, 'subsample': 0.26947658385373074, 'gamma': 0.2959148779224627}. Best is trial 0 with value: 0.3414903390876768.\u001b[0m\n",
      "\u001b[32m[I 2022-05-26 21:22:51,339]\u001b[0m Trial 3 finished with value: 0.3277683501945425 and parameters: {'n_estimators': 193, 'reg_alpha': 0.12078466592340736, 'max_depth': 12, 'max_leaves': 162, 'eta': 0.2676964010546347, 'min_child_weight': 14, 'subsample': 0.558406107505247, 'gamma': 0.5473956073009071}. Best is trial 3 with value: 0.3277683501945425.\u001b[0m\n",
      "\u001b[32m[I 2022-05-26 21:23:05,509]\u001b[0m Trial 4 finished with value: 0.586686816980867 and parameters: {'n_estimators': 199, 'reg_alpha': 0.4598750093093501, 'max_depth': 2, 'max_leaves': 41, 'eta': 0.9303901842770563, 'min_child_weight': 19, 'subsample': 0.7769910952390378, 'gamma': 0.08364733485932195}. Best is trial 3 with value: 0.3277683501945425.\u001b[0m\n"
     ]
    },
    {
     "name": "stdout",
     "output_type": "stream",
     "text": [
      "{'n_estimators': 193, 'reg_alpha': 0.12078466592340736, 'max_depth': 12, 'max_leaves': 162, 'eta': 0.2676964010546347, 'min_child_weight': 14, 'subsample': 0.558406107505247, 'gamma': 0.5473956073009071}\n"
     ]
    }
   ],
   "source": [
    "xb = tuning.xgb_tunning()\n",
    "study_xgb = optuna.create_study(direction='minimize', study_name='XGBoost')\n",
    "study_xgb.optimize(xb, n_trials=5)\n",
    "print(study_xgb.best_params)"
   ]
  },
  {
   "cell_type": "code",
   "execution_count": 22,
   "metadata": {},
   "outputs": [
    {
     "data": {
      "text/plain": [
       "0.9466242623371507"
      ]
     },
     "execution_count": 22,
     "metadata": {},
     "output_type": "execute_result"
    }
   ],
   "source": [
    "xgbr = XGBRegressor(**study_xgb.best_params).fit(X_train, y_train)\n",
    "prediction = xgbr.predict(X_test)\n",
    "r2_score(y_test, prediction)\n"
   ]
  },
  {
   "cell_type": "code",
   "execution_count": 23,
   "metadata": {},
   "outputs": [
    {
     "data": {
      "text/plain": [
       "{'fit_time': array([27.00066137, 40.32495856, 21.88901973]),\n",
       " 'score_time': array([0.28300023, 0.48600125, 0.48099804]),\n",
       " 'test_score': array([-0.05303668, -0.07629299, -0.05707343]),\n",
       " 'train_score': array([-0.03528423, -0.03256485, -0.03379739])}"
      ]
     },
     "execution_count": 23,
     "metadata": {},
     "output_type": "execute_result"
    }
   ],
   "source": [
    "kf = KFold(n_splits=3, shuffle=True)\n",
    "cross_validate(lg, X_train, y_train, cv=kf, scoring='neg_mean_squared_error', return_train_score=True)"
   ]
  },
  {
   "cell_type": "code",
   "execution_count": 24,
   "metadata": {},
   "outputs": [
    {
     "data": {
      "text/plain": [
       "0.9366501329147544"
      ]
     },
     "execution_count": 24,
     "metadata": {},
     "output_type": "execute_result"
    }
   ],
   "source": [
    "np.mean(cross_val_score(lg, X_train, y_train, cv=kf))"
   ]
  },
  {
   "cell_type": "code",
   "execution_count": 25,
   "metadata": {},
   "outputs": [
    {
     "data": {
      "text/plain": [
       "{'n_estimators': 209,\n",
       " 'reg_alpha': 4.579761912253526e-08,\n",
       " 'reg_lambda': 0.05556953835133028,\n",
       " 'num_leaves': 101,\n",
       " 'colsample_bytree': 0.6736001169481415,\n",
       " 'subsample': 0.7741897653550532,\n",
       " 'min_child_samples': 19}"
      ]
     },
     "execution_count": 25,
     "metadata": {},
     "output_type": "execute_result"
    }
   ],
   "source": [
    "study_lgm.best_params"
   ]
  },
  {
   "cell_type": "code",
   "execution_count": null,
   "metadata": {},
   "outputs": [],
   "source": []
  }
 ],
 "metadata": {
  "interpreter": {
   "hash": "0567712bef34149f50dd890d50224273772a0f06480d880e52ac0eca0e98c75d"
  },
  "kernelspec": {
   "display_name": "Python 3.10.4 ('deeplearning')",
   "language": "python",
   "name": "python3"
  },
  "language_info": {
   "codemirror_mode": {
    "name": "ipython",
    "version": 3
   },
   "file_extension": ".py",
   "mimetype": "text/x-python",
   "name": "python",
   "nbconvert_exporter": "python",
   "pygments_lexer": "ipython3",
   "version": "3.10.4"
  },
  "orig_nbformat": 4
 },
 "nbformat": 4,
 "nbformat_minor": 2
}
